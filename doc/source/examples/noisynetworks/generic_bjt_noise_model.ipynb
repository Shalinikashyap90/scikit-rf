{
 "metadata": {
  "language_info": {
   "codemirror_mode": {
    "name": "ipython",
    "version": 3
   },
   "file_extension": ".py",
   "mimetype": "text/x-python",
   "name": "python",
   "nbconvert_exporter": "python",
   "pygments_lexer": "ipython3",
   "version": "3.7.7-final"
  },
  "orig_nbformat": 2,
  "kernelspec": {
   "name": "python37764bitscikitrfv1condaade76b4dc6324ad28a7f171ba9207dcd",
   "display_name": "Python 3.7.7 64-bit ('scikit-rf_v1': conda)"
  }
 },
 "nbformat": 4,
 "nbformat_minor": 2,
 "cells": [
  {
   "cell_type": "code",
   "execution_count": 3,
   "metadata": {},
   "outputs": [
    {
     "output_type": "error",
     "ename": "NameError",
     "evalue": "name 'beta0' is not defined",
     "traceback": [
      "\u001b[1;31m---------------------------------------------------------------------------\u001b[0m",
      "\u001b[1;31mNameError\u001b[0m                                 Traceback (most recent call last)",
      "\u001b[1;32m<ipython-input-3-d2e1da053c0b>\u001b[0m in \u001b[0;36m<module>\u001b[1;34m\u001b[0m\n\u001b[0;32m     45\u001b[0m \u001b[1;33m\u001b[0m\u001b[0m\n\u001b[0;32m     46\u001b[0m \u001b[1;31m# This covariance matrix represents the shot noise within the BJT\u001b[0m\u001b[1;33m\u001b[0m\u001b[1;33m\u001b[0m\u001b[1;33m\u001b[0m\u001b[0m\n\u001b[1;32m---> 47\u001b[1;33m cov_bjt_y = 2*kB*T0*gm*rf.network_array([[1/beta0*ovec,  zvec],\n\u001b[0m\u001b[0;32m     48\u001b[0m                                        [zvec,          ovec]])\n\u001b[0;32m     49\u001b[0m \u001b[1;33m\u001b[0m\u001b[0m\n",
      "\u001b[1;31mNameError\u001b[0m: name 'beta0' is not defined"
     ]
    }
   ],
   "source": [
    "# The really long way\n",
    "import skrf as rf\n",
    "import numpy as npy\n",
    "from skrf.constants import *\n",
    "\n",
    "T0 = 290. # Both resistors are set at room temperature for now\n",
    "kB = K_BOLTZMANN\n",
    "frequency = rf.Frequency(start=1, stop=10000, npoints=100, unit='MHz')\n",
    "\n",
    "Ic_ma = 20 # bias current in milliamps\n",
    "beta0 = 100 # current gain\n",
    "cpi = 1e-12\n",
    "cu = 1e-12\n",
    "rbb = 3\n",
    "ru = 1e9\n",
    "rb = 1e9\n",
    "rc = 1e9\n",
    "re = 1e9\n",
    "r0 = 1e9\n",
    "\n",
    "gm = Ic_ma/26 # transconductance\n",
    "re = 1/gm\n",
    "rpi = Beta0*re # input resistance\n",
    "gpi = 1/rpi\n",
    "scpi = 1j*frequency.w*cpi\n",
    "scu = 1j*frequency.w*cu\n",
    "sug_d = scu - gm\n",
    "\n",
    "ovec = npy.ones(len(frequency))\n",
    "zvec = npy.zeros(len(frequency))\n",
    "\n",
    "# Series resistance containing thermal noise within the BJT\n",
    "rbb_series_y = rf.network_array([[1/rbb*ovec,  -1/rbb*ovec],\n",
    "                                 [-1/rbb*ovec,  1/rbb*ovec]])\n",
    "\n",
    "# The next few networks are combined to create the BJT. \n",
    "gpi_shunt_a = rf.network_array([[ovec,     zvec],\n",
    "                                [gpi*ovec, ovec]])\n",
    "\n",
    "cpi_shunt_a = rf.network_array([[ovec,     zvec],\n",
    "                                [scpi*ovec, ovec]])\n",
    "\n",
    "cug_shfb_a = rf.network_array([[scu/sug_d,     ovec/sug_d],\n",
    "                               [scu*gm/sug_d,   scu/sug_d]])\n",
    "\n",
    "# This covariance matrix represents the shot noise within the BJT\n",
    "cov_bjt_y = 2*kB*T0*gm*rf.network_array([[1/beta0*ovec,  zvec],\n",
    "                                       [zvec,          ovec]])\n",
    "\n",
    "a_bjt = npy.matmul(gpi_shunt_a, npy.matmul(cpi_shunt_a, cug_shfb_a))\n",
    "\n",
    "# Create the series resisance network with attached covariance matrix representing thermal noise\n",
    "nwrkRbb = rf.Network.from_y(rbb_series_y, frequency=frequency)\n",
    "nwrkRbb.noise_source('passive')\n",
    "\n",
    "# Create the BJT model and attach the covariance matrix representing shot noise\n",
    "nwrkBjt = rf.Network.from_a(a_bjt, frequency=frequency)\n",
    "shot_noise_cov_y = rf.NetworkNoiseCov(cov_bjt_y, form='y')\n",
    "nwrkBjt.noise_source(shot_noise_cov_y)\n"
   ]
  }
 ]
}