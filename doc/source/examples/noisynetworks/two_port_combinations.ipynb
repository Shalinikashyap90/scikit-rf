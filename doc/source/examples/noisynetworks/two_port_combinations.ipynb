{
 "metadata": {
  "language_info": {
   "codemirror_mode": {
    "name": "ipython",
    "version": 3
   },
   "file_extension": ".py",
   "mimetype": "text/x-python",
   "name": "python",
   "nbconvert_exporter": "python",
   "pygments_lexer": "ipython3",
   "version": "3.7.7-final"
  },
  "orig_nbformat": 2,
  "kernelspec": {
   "name": "python37764bitscikitrfv1condaade76b4dc6324ad28a7f171ba9207dcd",
   "display_name": "Python 3.7.7 64-bit ('scikit-rf_v1': conda)"
  }
 },
 "nbformat": 4,
 "nbformat_minor": 2,
 "cells": [
  {
   "cell_type": "code",
   "execution_count": 4,
   "metadata": {},
   "outputs": [
    {
     "output_type": "execute_result",
     "data": {
      "text/plain": "array([[[ 1.00097018e-19, -1.00097018e-19],\n        [-1.00097018e-19,  1.00097018e-19]],\n\n       [[ 1.00097018e-19, -1.00097018e-19],\n        [-1.00097018e-19,  1.00097018e-19]],\n\n       [[ 1.00097018e-19, -1.00097018e-19],\n        [-1.00097018e-19,  1.00097018e-19]],\n\n       [[ 1.00097018e-19, -1.00097018e-19],\n        [-1.00097018e-19,  1.00097018e-19]],\n\n       [[ 1.00097018e-19, -1.00097018e-19],\n        [-1.00097018e-19,  1.00097018e-19]],\n\n       [[ 1.00097018e-19, -1.00097018e-19],\n        [-1.00097018e-19,  1.00097018e-19]],\n\n       [[ 1.00097018e-19, -1.00097018e-19],\n        [-1.00097018e-19,  1.00097018e-19]],\n\n       [[ 1.00097018e-19, -1.00097018e-19],\n        [-1.00097018e-19,  1.00097018e-19]],\n\n       [[ 1.00097019e-19, -1.00097019e-19],\n        [-1.00097019e-19,  1.00097019e-19]],\n\n       [[ 1.00097019e-19, -1.00097019e-19],\n        [-1.00097019e-19,  1.00097019e-19]]])"
     },
     "metadata": {},
     "execution_count": 4
    }
   ],
   "source": [
    "import skrf as rf\n",
    "import numpy as npy\n",
    "from skrf.constants import *\n",
    "\n",
    "T0 = 290. # Both resistors are set at room temperature for now\n",
    "frequency = rf.Frequency(start=1000, stop=2000, npoints=10, unit='MHz')\n",
    "\n",
    "ovec = npy.ones(len(frequency))\n",
    "zvec = npy.zeros(len(frequency))\n",
    "rseries = 200*ovec # Series resistance\n",
    "rshunt = 500*ovec  # Shunt resistance\n",
    "\n",
    "# This is the Y form of the network parameters for a series resistor\n",
    "r_series1_y = rf.network_array([[1/rseries,  -1/rseries],\n",
    "                               [-1/rseries,  1/rseries]])\n",
    "\n",
    "r_series2_y = rf.network_array([[1/rseries,  -1/rseries],\n",
    "                               [-1/rseries,  1/rseries]])\n",
    "\n",
    "ntwk1 = rf.Network.from_y(r_series1_y, frequency = frequency)\n",
    "ntwk1.noise_source('passive')\n",
    "ntwk2 = rf.Network.from_y(r_series1_y, frequency = frequency)\n",
    "ntwk2.noise_source('passive')\n",
    "\n",
    "ntwk3 = rf.parallel_parallel_2port(ntwk1, ntwk2)\n",
    "ntwk3.y\n",
    "ntwk3.cy"
   ]
  },
  {
   "cell_type": "code",
   "execution_count": 3,
   "metadata": {},
   "outputs": [
    {
     "output_type": "execute_result",
     "data": {
      "text/plain": "array([[[ 5.81334662e+13, -5.81334662e+13],\n        [-5.81334662e+13,  5.81334662e+13]],\n\n       [[ 5.81334662e+13, -5.81334662e+13],\n        [-5.81334662e+13,  5.81334662e+13]],\n\n       [[ 5.81334662e+13, -5.81334662e+13],\n        [-5.81334662e+13,  5.81334662e+13]],\n\n       [[ 5.81334662e+13, -5.81334662e+13],\n        [-5.81334662e+13,  5.81334662e+13]],\n\n       [[ 5.81334662e+13, -5.81334662e+13],\n        [-5.81334662e+13,  5.81334662e+13]],\n\n       [[ 5.81334662e+13, -5.81334662e+13],\n        [-5.81334662e+13,  5.81334662e+13]],\n\n       [[ 5.81334662e+13, -5.81334662e+13],\n        [-5.81334662e+13,  5.81334662e+13]],\n\n       [[ 5.81334662e+13, -5.81334662e+13],\n        [-5.81334662e+13,  5.81334662e+13]],\n\n       [[ 5.81334662e+13, -5.81334662e+13],\n        [-5.81334662e+13,  5.81334662e+13]],\n\n       [[ 5.81334662e+13, -5.81334662e+13],\n        [-5.81334662e+13,  5.81334662e+13]]])"
     },
     "metadata": {},
     "execution_count": 3
    }
   ],
   "source": [
    "import skrf as rf\n",
    "import numpy as npy\n",
    "from skrf.constants import *\n",
    "\n",
    "T0 = 290. # Both resistors are set at room temperature for now\n",
    "frequency = rf.Frequency(start=1000, stop=2000, npoints=10, unit='MHz')\n",
    "\n",
    "ovec = npy.ones(len(frequency))\n",
    "zvec = npy.zeros(len(frequency))\n",
    "rseries = 200*ovec # Series resistance\n",
    "rshunt = 100*ovec  # Shunt resistance\n",
    "\n",
    "# This is the Y form of the network parameters for a series resistor\n",
    "r_shunt1_z = rf.network_array([[rshunt, rshunt],\n",
    "                              [rshunt, rshunt]])\n",
    "\n",
    "r_shunt2_z = rf.network_array([[rshunt, rshunt],\n",
    "                              [rshunt, rshunt]])\n",
    "\n",
    "ntwk1 = rf.Network.from_z(r_shunt1_z, frequency = frequency)\n",
    "ntwk1.noise_source('passive')\n",
    "ntwk2 = rf.Network.from_z(r_shunt2_z, frequency = frequency)\n",
    "ntwk2.noise_source('passive')\n",
    "\n",
    "ntwk3 = rf.series_series_2port(ntwk1, ntwk2)\n",
    "ntwk2.z\n"
   ]
  }
 ]
}