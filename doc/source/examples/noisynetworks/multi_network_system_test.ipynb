{
 "metadata": {
  "language_info": {
   "codemirror_mode": {
    "name": "ipython",
    "version": 3
   },
   "file_extension": ".py",
   "mimetype": "text/x-python",
   "name": "python",
   "nbconvert_exporter": "python",
   "pygments_lexer": "ipython3",
   "version": "3.8.5-final"
  },
  "orig_nbformat": 2,
  "kernelspec": {
   "name": "python38564bitskrfconda570c29fa02a4425eb09019951c36043d",
   "display_name": "Python 3.8.5 64-bit ('skrf': conda)"
  }
 },
 "nbformat": 4,
 "nbformat_minor": 2,
 "cells": [
  {
   "source": [
    "# Calculating Noise Parameters from Mulitiple Connected Noisy Networks\n",
    "\n",
    "This is a simple example showing how a MultiNetworkSystem object correctly calculates noise parameters"
   ],
   "cell_type": "markdown",
   "metadata": {}
  },
  {
   "cell_type": "code",
   "execution_count": null,
   "metadata": {
    "tags": [
     "outputPrepend"
    ]
   },
   "outputs": [],
   "source": [
    "import skrf as rf\n",
    "import numpy as npy\n",
    "from skrf.constants import *\n",
    "\n",
    "frequency = rf.Frequency(start=1000, stop=2000, npoints=201, unit='MHz')\n",
    "ntwkAttn1 = rf.components.Attenuator(5, frequency=frequency)\n",
    "ntwkAttn2 = rf.components.Attenuator(7, frequency=frequency)\n",
    "ntwkC = rf.cascade_2port(ntwkAttn1, ntwkAttn2)\n",
    "\n",
    "sys = rf.MultiNetworkSystem()\n",
    "\n",
    "# add all the networks to the system\n",
    "sys.add(ntwkAttn1, 'attn1')\n",
    "sys.add(ntwkAttn2, 'attn2')\n",
    "\n",
    "# make all the connections between the elements\n",
    "sys.connect('attn1', 2, 'attn2', 1)\n",
    "\n",
    "# set the external port numbers, for this example the reduced network is a two-port network. The following is used to identify port 1 and port 2 of that resulting network.\n",
    "sys.external_port('attn1', 1, external_port_number=1)\n",
    "sys.external_port('attn2', 2, external_port_number=2)\n",
    "\n",
    "# the verify function make sure that all the ports have been asigned and that everything is consistant for the reduction algorithm\n",
    "(en, e) = sys.verify()\n",
    "for error in e:\n",
    "    print(error)\n",
    "print(\"Total number of Errors: \" + str(en))\n",
    "\n",
    "# calculate and return the resulting network\n",
    "ntwk = sys.reduce()\n",
    "print(ntwk)\n",
    "print(ntwk.s)\n",
    "print(ntwk.cs)\n",
    "\n",
    "A = npy.identity(npy.shape(ntwk.s)[1])\n",
    "A[0,0] = 0\n",
    "kb_t_sas = K_BOLTZMANN*290*npy.matmul(ntwk.s,npy.matmul(A,npy.conjugate(ntwk.s.swapaxes(2,1))))\n",
    "\n",
    "F= 1 + ntwk.cs[:,0,0]/(kb_t_sas[:,0,0])\n",
    "\n",
    "print(10*npy.log10(npy.abs(F)))\n",
    "\n"
   ]
  }
 ]
}