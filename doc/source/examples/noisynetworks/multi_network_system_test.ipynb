{
 "metadata": {
  "language_info": {
   "codemirror_mode": {
    "name": "ipython",
    "version": 3
   },
   "file_extension": ".py",
   "mimetype": "text/x-python",
   "name": "python",
   "nbconvert_exporter": "python",
   "pygments_lexer": "ipython3",
   "version": "3.7.7-final"
  },
  "orig_nbformat": 2,
  "kernelspec": {
   "name": "python37764bitscikitrfv1condaade76b4dc6324ad28a7f171ba9207dcd",
   "display_name": "Python 3.7.7 64-bit ('scikit-rf_v1': conda)"
  }
 },
 "nbformat": 4,
 "nbformat_minor": 2,
 "cells": [
  {
   "cell_type": "code",
   "execution_count": 8,
   "metadata": {
    "tags": []
   },
   "outputs": [
    {
     "output_type": "stream",
     "name": "stdout",
     "text": "Total number of Errors: 0\n2-Port Network: '',  1000.0-1000.0 MHz, 1 pts, z0=[50.+0.j 50.+0.j]\n[[[0.        +0.j 0.25118864+0.j]\n  [0.25118864+0.j 0.        +0.j]]]\n[[[1.87562646e-21+0.j 0.00000000e+00+0.j]\n  [0.00000000e+00+0.j 1.87562646e-21+0.j]]]\n"
    }
   ],
   "source": [
    "import skrf as rf\n",
    "import numpy as npy\n",
    "from skrf.constants import *\n",
    "\n",
    "frequency = rf.Frequency(start=1000, stop=2000, npoints=1, unit='MHz')\n",
    "ntwkAttn1 = rf.components.Attenuator(5, frequency=frequency)\n",
    "ntwkAttn2 = rf.components.Attenuator(7, frequency=frequency)\n",
    "ntwkC = rf.cascade_2port(ntwkAttn1, ntwkAttn2)\n",
    "\n",
    "sys = rf.MultiNetworkSystem()\n",
    "\n",
    "# add all the networks to the system\n",
    "sys.add(ntwkAttn1, 'attn1')\n",
    "sys.add(ntwkAttn2, 'attn2')\n",
    "\n",
    "# make all the connections between the elements\n",
    "sys.connect('attn1', 2, 'attn2', 1)\n",
    "\n",
    "# set the external port numbers, for this example the reduced network is a two-port network. The following is used to identify port 1 and port 2 of that resulting network.\n",
    "sys.external_port('attn1', 1, external_port_number=1)\n",
    "sys.external_port('attn2', 2, external_port_number=2)\n",
    "\n",
    "# the verify function make sure that all the ports have been asigned and that everything is consistant for the reduction algorithm\n",
    "(en, e) = sys.verify()\n",
    "for error in e:\n",
    "    print(error)\n",
    "print(\"Total number of Errors: \" + str(en))\n",
    "\n",
    "# calculate and return the resulting network\n",
    "ntwk = sys.reduce()\n",
    "print(ntwk)\n",
    "print(ntwk.s)\n",
    "print(ntwk.cs)\n"
   ]
  }
 ]
}