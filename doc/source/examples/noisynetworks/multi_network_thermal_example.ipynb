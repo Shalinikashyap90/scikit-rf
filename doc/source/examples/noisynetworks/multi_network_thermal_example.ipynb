{
 "metadata": {
  "language_info": {
   "codemirror_mode": {
    "name": "ipython",
    "version": 3
   },
   "file_extension": ".py",
   "mimetype": "text/x-python",
   "name": "python",
   "nbconvert_exporter": "python",
   "pygments_lexer": "ipython3",
   "version": "3.8.5-final"
  },
  "orig_nbformat": 2,
  "kernelspec": {
   "name": "python_defaultSpec_1598564814551",
   "display_name": "Python 3.8.5 64-bit ('scikit_noisy': conda)"
  }
 },
 "nbformat": 4,
 "nbformat_minor": 2,
 "cells": [
  {
   "cell_type": "code",
   "execution_count": 1,
   "metadata": {
    "tags": []
   },
   "outputs": [
    {
     "output_type": "stream",
     "name": "stdout",
     "text": "{1: 'External ports must have correct assignments, e.g. 1, 2, 3, ... '}\n1\nTotal number of Errors: 1\n4-Port Network: '',  2000.0-2000.0 MHz, 1 pts, z0=[50.+0.j 50.+0.j 50.+0.j 50.+0.j]\n[[[  -inf   -inf   -inf -20.05]\n  [-19.55   -inf   -inf   -inf]\n  [  -inf  -1.     -inf   -inf]\n  [  -inf   -inf  -0.5    -inf]]]\n[[[5.96049611e-24+0.j 0.00000000e+00+0.j 0.00000000e+00+0.j\n   0.00000000e+00+0.j]\n  [0.00000000e+00+0.j 2.08490012e-24+0.j 0.00000000e+00+0.j\n   0.00000000e+00+0.j]\n  [0.00000000e+00+0.j 0.00000000e+00+0.j 1.52717065e-25+0.j\n   0.00000000e+00+0.j]\n  [0.00000000e+00+0.j 0.00000000e+00+0.j 0.00000000e+00+0.j\n   8.07492345e-26+0.j]]]\n"
    }
   ],
   "source": [
    "import skrf as rf\n",
    "import numpy as npy\n",
    "from skrf.constants import *\n",
    "\n",
    "import skrf as rf\n",
    "import numpy as npy\n",
    "from skrf.constants import *\n",
    "\n",
    "frequency = rf.Frequency(start=2000, stop=4000, npoints=1, unit='MHz')\n",
    "ntwkAttn1_4000mK = rf.components.Attenuator(.05, frequency=frequency, T0 = 4)\n",
    "ntwkAttn2_1000mK = rf.components.Attenuator(3, frequency=frequency, T0 = 1)\n",
    "ntwkAttn_700mK = rf.components.Attenuator(10, frequency=frequency, T0 = .7)\n",
    "ntwkAttn_400mk = rf.components.Attenuator(3, frequency=frequency, T0=.4)\n",
    "ntwkAttn_100mk = rf.components.Attenuator(3, frequency=frequency, T0=.1)\n",
    "ntwkCirc1 = rf.components.Circulator(0.5, frequency = frequency, T0 = .1)\n",
    "ntwkCirc2 = rf.components.Circulator(0.5, frequency = frequency, T0 = .1)\n",
    "\n",
    "ntwkC = rf.cascade_2port(ntwkAttn1_4000mK, ntwkAttn2_1000mK)\n",
    "\n",
    "sys = rf.MultiNetworkSystem()\n",
    "\n",
    "# add all the networks to the system\n",
    "sys.add(ntwkAttn1_4000mK, r'attn_4K')\n",
    "sys.add(ntwkAttn2_1000mK, r'attn_1K')\n",
    "sys.add(ntwkAttn_700mK, r'attn_0p7K')\n",
    "sys.add(ntwkAttn_400mk, r'attn_0p4K')\n",
    "sys.add(ntwkAttn_100mk, r'attn_0p1K')\n",
    "sys.add(ntwkCirc1, r'inj_circ')\n",
    "sys.add(ntwkCirc1, r'jpa_circ')\n",
    "\n",
    "# make all the connections between the elements\n",
    "sys.connect(r'attn_4K', 2, r'attn_1K', 1)\n",
    "sys.connect(r'attn_1K', 2, r'attn_0p7K', 1)\n",
    "sys.connect(r'attn_0p7K', 2, r'attn_0p4K', 1)\n",
    "sys.connect(r'attn_0p4K', 2, r'attn_0p1K', 1)\n",
    "sys.connect(r'attn_0p1K', 2, r'inj_circ', 1)\n",
    "sys.connect(r'inj_circ', 3, r'jpa_circ', 1)\n",
    "\n",
    "\n",
    "# set the external port numbers, for this example the reduced network is a two-port network. The following is used to identify port 1 and port 2 of that resulting network.\n",
    "sys.external_port(r'attn_4K', 1, external_port_number=1)\n",
    "sys.external_port(r'inj_circ', 2, external_port_number=2)\n",
    "sys.external_port(r'jpa_circ', 2, external_port_number=3)\n",
    "sys.external_port(r'jpa_circ', 3, external_port_number=3)\n",
    "\n",
    "# the verify function make sure that all the ports have been asigned and that everything is consistant for the reduction algorithm\n",
    "(en, e) = sys.verify()\n",
    "print(e)\n",
    "for error in e:\n",
    "    print(error)\n",
    "print(\"Total number of Errors: \" + str(en))\n",
    "\n",
    "# calculate and return the resulting network\n",
    "ntwk = sys.reduce()\n",
    "print(ntwk)\n",
    "print(20*npy.log10(npy.abs(ntwk.s)))\n",
    "print(ntwk.cs)"
   ]
  }
 ]
}